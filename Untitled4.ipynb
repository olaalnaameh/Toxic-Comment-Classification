{
 "cells": [
  {
   "cell_type": "code",
   "execution_count": 4,
   "metadata": {
    "collapsed": true
   },
   "outputs": [],
   "source": [
    "import numpy as np\n",
    "import pandas as pd\n",
    "import pickle"
   ]
  },
  {
   "cell_type": "code",
   "execution_count": 5,
   "metadata": {},
   "outputs": [
    {
     "name": "stdout",
     "output_type": "stream",
     "text": [
      "         id                                       comment_text  toxic  \\\n",
      "0  22256635  Nonsense?  kiss off, geek. what I said is true...      1   \n",
      "1  27450690  \"\\n\\n Please do not vandalize pages, as you di...      0   \n",
      "2  54037174  \"\\n\\n \"\"Points of interest\"\" \\n\\nI removed the...      0   \n",
      "3  77493077  Asking some his nationality is a Racial offenc...      0   \n",
      "4  79357270  The reader here is not going by my say so for ...      0   \n",
      "\n",
      "   severe_toxic  obscene  threat  insult  identity_hate  \n",
      "0             0        0       0       0              0  \n",
      "1             0        0       0       0              0  \n",
      "2             0        0       0       0              0  \n",
      "3             0        0       0       0              0  \n",
      "4             0        0       0       0              0  \n",
      "-------------------------------------------\n",
      "                                                       comment_text  toxic  \\\n",
      "id                                                                           \n",
      "0000997932d777bf  explanation why the edit make under -PRON- use...      0   \n",
      "000103f0d9cfb60f  daww -PRON- match this background colour -PRON...      0   \n",
      "000113f07ec002fd  hey man -PRON- be really not try to edit war -...      0   \n",
      "0001b41b1c6bb37e  much i can not make any real suggestion on imp...      0   \n",
      "0001d958c54c6e35  -PRON- sir be -PRON- hero any chance -PRON- re...      0   \n",
      "\n",
      "                  severe_toxic  obscene  threat  insult  identity_hate  clean  \n",
      "id                                                                             \n",
      "0000997932d777bf             0        0       0       0              0   True  \n",
      "000103f0d9cfb60f             0        0       0       0              0   True  \n",
      "000113f07ec002fd             0        0       0       0              0   True  \n",
      "0001b41b1c6bb37e             0        0       0       0              0   True  \n",
      "0001d958c54c6e35             0        0       0       0              0   True  \n"
     ]
    }
   ],
   "source": [
    "train = pd.read_csv('train.csv')\n",
    "print(train[0:5])\n",
    "train2 = pickle.load(open('train.p','rb'))\n",
    "print('-------------------------------------------')\n",
    "print(train2[0:5])"
   ]
  },
  {
   "cell_type": "code",
   "execution_count": null,
   "metadata": {
    "collapsed": true
   },
   "outputs": [],
   "source": []
  }
 ],
 "metadata": {
  "kernelspec": {
   "display_name": "Python 3",
   "language": "python",
   "name": "python3"
  },
  "language_info": {
   "codemirror_mode": {
    "name": "ipython",
    "version": 3
   },
   "file_extension": ".py",
   "mimetype": "text/x-python",
   "name": "python",
   "nbconvert_exporter": "python",
   "pygments_lexer": "ipython3",
   "version": "3.6.3"
  }
 },
 "nbformat": 4,
 "nbformat_minor": 2
}
