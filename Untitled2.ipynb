{
 "cells": [
  {
   "cell_type": "code",
   "execution_count": 1,
   "metadata": {
    "collapsed": true
   },
   "outputs": [],
   "source": [
    "from collections import Counter\n",
    "import collections\n",
    "import pickle\n",
    "import string\n",
    "import matplotlib.pyplot as plt\n",
    "import pandas as pd\n",
    "from nltk import ngrams\n",
    "\n",
    "from nltk.tokenize import word_tokenize\n",
    "from nltk.util import ngrams\n",
    "\n",
    "def saveInFile(data,fileName):\n",
    "    filehandler = open(fileName+\".p\", \"wb\")\n",
    "    pickle.dump(data, filehandler)\n",
    "    filehandler.close()\n",
    "\n",
    "def get_ngrams(sentence, n ):\n",
    "    n_grams = ngrams(word_tokenize(sentence), n)\n",
    "    return [ ' '.join(grams) for grams in n_grams]\n",
    "\n",
    "train = pickle.load(open('train.p','rb'))\n",
    "x_train=train['comment_text']\n",
    "y_train=train.iloc[:, 1:]\n"
   ]
  },
  {
   "cell_type": "code",
   "execution_count": 2,
   "metadata": {},
   "outputs": [
    {
     "name": "stderr",
     "output_type": "stream",
     "text": [
      "IOPub data rate exceeded.\n",
      "The notebook server will temporarily stop sending output\n",
      "to the client in order to avoid crashing it.\n",
      "To change this limit, set the config variable\n",
      "`--NotebookApp.iopub_data_rate_limit`.\n"
     ]
    }
   ],
   "source": [
    "wordsNonClean = Counter()\n",
    "for item in train[(train['clean'] == 0)]['comment_text'].tolist():\n",
    "    wordsNonClean.update(get_ngrams(item,2))\n",
    "    wordsNonClean.update(get_ngrams(item, 3))\n",
    "    wordsNonClean.update(item.split(\" \"))\n",
    "print('NonCleanDict',wordsNonClean)"
   ]
  },
  {
   "cell_type": "code",
   "execution_count": 3,
   "metadata": {},
   "outputs": [
    {
     "name": "stderr",
     "output_type": "stream",
     "text": [
      "C:\\Users\\ola.alnaameh\\AppData\\Local\\Continuum\\anaconda3\\lib\\site-packages\\ipykernel_launcher.py:19: DeprecationWarning: generator 'ngrams' raised StopIteration\n"
     ]
    },
    {
     "name": "stdout",
     "output_type": "stream",
     "text": [
      "CleanDict "
     ]
    },
    {
     "name": "stderr",
     "output_type": "stream",
     "text": [
      "IOPub data rate exceeded.\n",
      "The notebook server will temporarily stop sending output\n",
      "to the client in order to avoid crashing it.\n",
      "To change this limit, set the config variable\n",
      "`--NotebookApp.iopub_data_rate_limit`.\n"
     ]
    }
   ],
   "source": [
    "wordsClean = Counter()\n",
    "for item in train[(train['clean'] == 1)]['comment_text'].tolist():\n",
    "    wordsClean.update(get_ngrams(item,2))\n",
    "    wordsClean.update(get_ngrams(item, 3))\n",
    "    wordsClean.update(item.split(\" \"))\n",
    "print('CleanDict',wordsClean)"
   ]
  },
  {
   "cell_type": "code",
   "execution_count": 4,
   "metadata": {},
   "outputs": [
    {
     "name": "stdout",
     "output_type": "stream",
     "text": [
      "28834281 2519986\n"
     ]
    }
   ],
   "source": [
    "sumClean=sum(wordsClean.values())\n",
    "sumNonClean=sum(wordsNonClean.values())\n",
    "\n",
    "print(sumClean,sumNonClean)"
   ]
  },
  {
   "cell_type": "code",
   "execution_count": 5,
   "metadata": {},
   "outputs": [
    {
     "ename": "MemoryError",
     "evalue": "",
     "output_type": "error",
     "traceback": [
      "\u001b[1;31m---------------------------------------------------------------------------\u001b[0m",
      "\u001b[1;31mMemoryError\u001b[0m                               Traceback (most recent call last)",
      "\u001b[1;32m<ipython-input-5-2739faa047a5>\u001b[0m in \u001b[0;36m<module>\u001b[1;34m()\u001b[0m\n\u001b[0;32m      2\u001b[0m \u001b[1;32mfor\u001b[0m \u001b[0mele\u001b[0m \u001b[1;32min\u001b[0m \u001b[0mwordsClean\u001b[0m\u001b[1;33m:\u001b[0m\u001b[1;33m\u001b[0m\u001b[0m\n\u001b[0;32m      3\u001b[0m     \u001b[0msumWords\u001b[0m\u001b[1;33m=\u001b[0m\u001b[1;36m0\u001b[0m\u001b[1;33m\u001b[0m\u001b[0m\n\u001b[1;32m----> 4\u001b[1;33m     \u001b[1;32mif\u001b[0m \u001b[0mele\u001b[0m \u001b[1;32min\u001b[0m \u001b[0mlist\u001b[0m\u001b[1;33m(\u001b[0m\u001b[0mwordsNonClean\u001b[0m\u001b[1;33m.\u001b[0m\u001b[0melements\u001b[0m\u001b[1;33m(\u001b[0m\u001b[1;33m)\u001b[0m\u001b[1;33m)\u001b[0m\u001b[1;33m:\u001b[0m\u001b[1;33m\u001b[0m\u001b[0m\n\u001b[0m\u001b[0;32m      5\u001b[0m         \u001b[0msumWords\u001b[0m\u001b[1;33m=\u001b[0m\u001b[0msumWords\u001b[0m\u001b[1;33m+\u001b[0m\u001b[0mwordsNonClean\u001b[0m\u001b[1;33m[\u001b[0m\u001b[0mele\u001b[0m\u001b[1;33m]\u001b[0m\u001b[1;33m\u001b[0m\u001b[0m\n\u001b[0;32m      6\u001b[0m \u001b[1;33m\u001b[0m\u001b[0m\n",
      "\u001b[1;31mMemoryError\u001b[0m: "
     ]
    }
   ],
   "source": [
    "CleanDict = dict()\n",
    "for ele in wordsClean:\n",
    "    sumWords=0\n",
    "    if ele in list(wordsNonClean.elements()):\n",
    "        sumWords=sumWords+wordsNonClean[ele]\n",
    "    \n",
    "    div=(wordsClean[ele]/sumClean)/((sumWords+1)/(sumNonClean))\n",
    "    CleanDict.update({ele:div})\n",
    "\n",
    "print('CleanDict',CleanDict)\n",
    "saveInFile(CleanDict,'CleanDict')"
   ]
  },
  {
   "cell_type": "code",
   "execution_count": null,
   "metadata": {
    "collapsed": true
   },
   "outputs": [],
   "source": [
    "NonCleanDict = dict()\n",
    "for ele in wordsNonClean:\n",
    "    sumWords=0\n",
    "    if ele in list(wordsClean.elements()):\n",
    "        sumWords=sumWords+wordsClean[ele]\n",
    "        \n",
    "    div=(wordsNonClean[ele]/sumNonClean)/((sumWords+1)/( sumClean))\n",
    "    NonCleanDict.update({ele:div})\n",
    "\n",
    "print('NonCleanDict',NonCleanDict)\n",
    "saveInFile(NonCleanDict,'NonCleanDict')"
   ]
  },
  {
   "cell_type": "code",
   "execution_count": null,
   "metadata": {
    "collapsed": true
   },
   "outputs": [],
   "source": [
    "test = pickle.load(open('test.p','rb'))\n",
    "NonCleanDict = pickle.load(open('NonCleanDict.p','rb'))\n",
    "sample = pd.read_csv('sample_submission.csv')\n",
    "IndexedDict = dict(enumerate(InsultDict2.keys()))\n",
    "\n",
    "feature_model = TfidfVectorizer(vocabulary=IndexedDict)\n",
    "feature_matrix = feature_model.fit_transform(train['comment_text'])"
   ]
  }
 ],
 "metadata": {
  "kernelspec": {
   "display_name": "Python 3",
   "language": "python",
   "name": "python3"
  },
  "language_info": {
   "codemirror_mode": {
    "name": "ipython",
    "version": 3
   },
   "file_extension": ".py",
   "mimetype": "text/x-python",
   "name": "python",
   "nbconvert_exporter": "python",
   "pygments_lexer": "ipython3",
   "version": "3.6.3"
  }
 },
 "nbformat": 4,
 "nbformat_minor": 2
}
