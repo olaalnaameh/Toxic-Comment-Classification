{
 "cells": [
  {
   "cell_type": "code",
   "execution_count": 4,
   "metadata": {},
   "outputs": [
    {
     "name": "stdout",
     "output_type": "stream",
     "text": [
      "\n",
      "    Warning: no model found for 'en'\n",
      "\n",
      "    Only loading the 'en' tokenizer.\n",
      "\n",
      "The dataset contains 95851 items.\n",
      "The test dataset contains 226998 items.\n",
      "start train lemmatize\n",
      "start test lemmatize\n",
      "Lemmatizing and storing done!\n"
     ]
    }
   ],
   "source": [
    "import pandas as pd # data processing, CSV file I/O (e.g. pd.read_csv)\n",
    "import matplotlib.pyplot as plt\n",
    "import spacy\n",
    "import string\n",
    "import pickle\n",
    "\n",
    "\n",
    "nlp = spacy.load(\"en\", disable=['parser', 'tagger', 'ner'])\n",
    "\n",
    "def countKinds(y_train):\n",
    "    kinds, counts = zip(*y_train.sum(axis=0).items())\n",
    "    return kinds,counts\n",
    "\n",
    "def plotClassDistribution(kinds, counts):\n",
    "    plt.suptitle('Class distribution in train set')\n",
    "    plt.bar(kinds, counts, facecolor='#9999ff', edgecolor='white')\n",
    "\n",
    "def normalize(comment, lowercase):\n",
    "    if lowercase:\n",
    "        comment = comment.lower()\n",
    "    comment=''.join([i for i in comment if not i.isdigit()])\n",
    "    comment = nlp(comment)\n",
    "    lemmatized = []\n",
    "    for word in comment:\n",
    "        lemma = word.lemma_.strip()\n",
    "        if lemma:\n",
    "            lemmatized.append(lemma)\n",
    "    return \" \".join(lemmatized)\n",
    "\n",
    "def dataStem(X_train):\n",
    "    x_train_lemmatized = X_train.apply(normalize, lowercase=True)\n",
    "    return x_train_lemmatized\n",
    "\n",
    "def saveInFile(x_train_lemmatized,fileName):\n",
    "    filehandler = open(fileName+\".p\", \"wb\")\n",
    "    pickle.dump(x_train_lemmatized, filehandler)\n",
    "    filehandler.close()\n",
    "\n",
    "def loadFromFile(fileName):\n",
    "    file = open(fileName+\".p\", 'rb')\n",
    "    object_file = pickle.load(file)\n",
    "    file.close()\n",
    "    return object_file\n",
    "\n",
    "\n",
    "#read train and test\n",
    "train = pd.read_csv('C:\\\\Users\\\\ola.alnaameh\\\\PycharmProjects\\\\KaggelComp\\\\input\\\\train.csv')\n",
    "test = pd.read_csv('C:\\\\Users\\\\ola.alnaameh\\\\PycharmProjects\\\\KaggelComp\\\\input\\\\test.csv')\n",
    "\n",
    "#Translating Comments\n",
    "#print('tranlating comments started')\n",
    "#train=TranslateTheDataSet(train)\n",
    "#test=TranslateTheDataSet(test)\n",
    "#print('tranlating comments done')\n",
    "\n",
    "print(\"The dataset contains\", len(train), \"items.\")\n",
    "print(\"The test dataset contains\", len(test), \"items.\")\n",
    "\n",
    "#separate the data and the target labels\n",
    "train.index = train['id']\n",
    "x_train = train['comment_text']\n",
    "y_train = train.iloc[:, 2:]\n",
    "test.index = test['id']\n",
    "x_test = test['comment_text']\n",
    "\n",
    "#Add the clean column\n",
    "y_train['clean'] = 1 - y_train.sum(axis=1) >= 1\n",
    "\n",
    "#Data Stemming\n",
    "x_train2 = x_train.dropna()\n",
    "x_test2 = x_test.dropna()\n",
    "print('start train lemmatize')\n",
    "x_train_lemmatized=dataStem(x_train2)\n",
    "#print(x_train_lemmatized)\n",
    "print('start test lemmatize')\n",
    "x_test_lemmatized=dataStem(x_test2)\n",
    "\n",
    "#save lemmatized data in file\n",
    "train2=pd.concat([x_train_lemmatized,y_train], axis=1)\n",
    "saveInFile(train2,'trainWithPunc')\n",
    "saveInFile(x_test_lemmatized,'testWithPunc')\n",
    "print('Lemmatizing and storing done!')\n",
    "\n",
    "#load files\n",
    "#train2=loadFromFile('train')\n",
    "#print(train2)\n",
    "\n",
    "plt.show()\n",
    "\n",
    "\n"
   ]
  },
  {
   "cell_type": "code",
   "execution_count": 2,
   "metadata": {},
   "outputs": [
    {
     "name": "stdout",
     "output_type": "stream",
     "text": [
      "hi\n"
     ]
    }
   ],
   "source": [
    "print('hi')"
   ]
  },
  {
   "cell_type": "code",
   "execution_count": 1,
   "metadata": {},
   "outputs": [
    {
     "ename": "NameError",
     "evalue": "name 'np' is not defined",
     "output_type": "error",
     "traceback": [
      "\u001b[1;31m---------------------------------------------------------------------------\u001b[0m",
      "\u001b[1;31mNameError\u001b[0m                                 Traceback (most recent call last)",
      "\u001b[1;32m<ipython-input-1-251624b623a8>\u001b[0m in \u001b[0;36m<module>\u001b[1;34m()\u001b[0m\n\u001b[1;32m----> 1\u001b[1;33m \u001b[0mTfIDF3\u001b[0m \u001b[1;33m=\u001b[0m \u001b[0mnp\u001b[0m\u001b[1;33m.\u001b[0m\u001b[0marray\u001b[0m\u001b[1;33m(\u001b[0m\u001b[0mlog_lossTFIDF3\u001b[0m\u001b[1;33m)\u001b[0m\u001b[1;33m\u001b[0m\u001b[0m\n\u001b[0m\u001b[0;32m      2\u001b[0m \u001b[0mprint\u001b[0m\u001b[1;33m(\u001b[0m\u001b[0mshape\u001b[0m\u001b[1;33m(\u001b[0m\u001b[0mTfIDF3\u001b[0m\u001b[1;33m)\u001b[0m\u001b[1;33m)\u001b[0m\u001b[1;33m\u001b[0m\u001b[0m\n\u001b[0;32m      3\u001b[0m \u001b[0mplt\u001b[0m\u001b[1;33m.\u001b[0m\u001b[0mfigure\u001b[0m\u001b[1;33m(\u001b[0m\u001b[0mfigsize\u001b[0m\u001b[1;33m=\u001b[0m\u001b[1;33m(\u001b[0m\u001b[1;36m12\u001b[0m\u001b[1;33m,\u001b[0m\u001b[1;36m12\u001b[0m\u001b[1;33m)\u001b[0m\u001b[1;33m)\u001b[0m\u001b[1;33m\u001b[0m\u001b[0m\n\u001b[0;32m      4\u001b[0m \u001b[0mplt\u001b[0m\u001b[1;33m.\u001b[0m\u001b[0mxlabel\u001b[0m\u001b[1;33m(\u001b[0m\u001b[1;34m'Number of Features'\u001b[0m\u001b[1;33m)\u001b[0m\u001b[1;33m\u001b[0m\u001b[0m\n\u001b[0;32m      5\u001b[0m \u001b[0mplt\u001b[0m\u001b[1;33m.\u001b[0m\u001b[0mylabel\u001b[0m\u001b[1;33m(\u001b[0m\u001b[1;34m'Log Loss Error'\u001b[0m\u001b[1;33m)\u001b[0m\u001b[1;33m\u001b[0m\u001b[0m\n",
      "\u001b[1;31mNameError\u001b[0m: name 'np' is not defined"
     ]
    }
   ],
   "source": []
  },
  {
   "cell_type": "code",
   "execution_count": null,
   "metadata": {
    "collapsed": true
   },
   "outputs": [],
   "source": []
  }
 ],
 "metadata": {
  "kernelspec": {
   "display_name": "Python 3",
   "language": "python",
   "name": "python3"
  },
  "language_info": {
   "codemirror_mode": {
    "name": "ipython",
    "version": 3
   },
   "file_extension": ".py",
   "mimetype": "text/x-python",
   "name": "python",
   "nbconvert_exporter": "python",
   "pygments_lexer": "ipython3",
   "version": "3.6.3"
  }
 },
 "nbformat": 4,
 "nbformat_minor": 2
}
