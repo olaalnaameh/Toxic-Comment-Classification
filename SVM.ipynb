{
 "cells": [
  {
   "cell_type": "code",
   "execution_count": 4,
   "metadata": {
    "collapsed": true
   },
   "outputs": [],
   "source": [
    "def RemovePunc(comment):\n",
    "    comment = comment.replace('^\\d+|\\n|\\t|\"|==|;|:|@', '')\n",
    "    comment = comment.replace('\\d+', '')\n",
    "    comment = comment.replace(',', '')\n",
    "    comment = comment.replace('?', '')\n",
    "    comment= comment.replace('!', '')\n",
    "    comment = comment.replace('&', '')\n",
    "    comment = comment.replace('[...]', '')\n",
    "    comment = comment.replace('[....]', '')\n",
    "    for c in string.punctuation:\n",
    "        comment = comment.replace(c, \"\")\n",
    "    return (comment)\n",
    "\n",
    "def RemoveHttp(comment):\n",
    "    comment = re.sub(r'(((https|http)?://)|(www.))(?:[a-zA-Z]|[0-9]|[$-_@.&+]|[!*\\(\\),]|(?:%[0-9a-fA-F][0-9a-fA-F])|#)',\n",
    "                     '', comment, flags=re.MULTILINE)\n",
    "    return (comment)\n",
    "\n",
    "def ConvertToLowerCase(comment):\n",
    "    comment = comment.lower()\n",
    "    return(comment)\n",
    "\n",
    "def StemComment(comment,lowerCase,punc,http):\n",
    "    if lowerCase:\n",
    "        comment = ConvertToLowerCase(comment)\n",
    "    if punc:\n",
    "        comment = RemovePunc(comment)\n",
    "    if http:\n",
    "        comment = RemoveHttp(comment)\n",
    "        \n",
    "    comment=''.join([i for i in comment if not i.isdigit()])\n",
    "    comment = nlp(comment)\n",
    "    lemmatized = []\n",
    "    for word in comment:\n",
    "        lemma = word.lemma_.strip()\n",
    "        if lemma:\n",
    "            lemmatized.append(lemma)\n",
    "    return \" \".join(lemmatized)\n",
    "    \n",
    "def dataStem(Data,lowerCase,punc,http):\n",
    "    Data_lemmatized = Data.apply(StemComment, lowerCase=True,punc=True,http=True)\n",
    "    return Data_lemmatized\n",
    "\n",
    "def saveInFile(x_train_lemmatized,fileName):\n",
    "    filehandler = open(fileName+\".p\", \"wb\")\n",
    "    pickle.dump(x_train_lemmatized, filehandler)\n",
    "    filehandler.close()\n",
    "    \n",
    "def loadFromFile(fileName):\n",
    "    file = open(fileName+\".p\", 'rb')\n",
    "    object_file = pickle.load(file)\n",
    "    file.close()\n",
    "    return object_file\n",
    "\n",
    "def sampling(data):\n",
    "    clean = data.loc[np.random.choice(data[data['clean']==True].index.tolist(),size=9237)].reset_index(drop=True)\n",
    "    severe_toxic = data.loc[np.random.choice(data[data['severe_toxic']==True].index.tolist(),size=6000,replace=True)].reset_index(drop=True)\n",
    "    obscene = data.loc[np.random.choice(data[data['obscene']==True].index.tolist(),size=2000,replace=True)].reset_index(drop=True)\n",
    "    threat = data.loc[np.random.choice(data[data['threat']==True].index.tolist(),size=6000,replace=True)].reset_index(drop=True)\n",
    "    insult = data.loc[np.random.choice(data[data['insult']==True].index.tolist(),size=2300,replace=True)].reset_index(drop=True)\n",
    "    identity_hate = data.loc[np.random.choice(data[data['identity_hate']==True].index.tolist(),size=6000,replace=True)].reset_index(drop=True)\n",
    "    toxic = data[data['toxic']==1].reset_index(drop=True)\n",
    "\n",
    "    sampled_train = pd.concat([clean,threat,toxic,severe_toxic,insult,identity_hate,obscene]).reset_index(drop=True)\n",
    "    sampled_train = sampled_train.sample(frac=1).reset_index(drop=True)\n",
    "    sampled_train['clean'] = sampled_train['clean'].astype(int)\n",
    "    return sampled_train\n",
    "\n"
   ]
  },
  {
   "cell_type": "markdown",
   "metadata": {},
   "source": [
    "# Apply Stemming on Data"
   ]
  },
  {
   "cell_type": "code",
   "execution_count": 3,
   "metadata": {},
   "outputs": [
    {
     "name": "stdout",
     "output_type": "stream",
     "text": [
      "\n",
      "    Warning: no model found for 'en'\n",
      "\n",
      "    Only loading the 'en' tokenizer.\n",
      "\n",
      "start train lemmatize\n",
      "start test lemmatize\n",
      "Lemmatizing and storing done!\n"
     ]
    }
   ],
   "source": [
    "import pandas as pd\n",
    "import matplotlib.pyplot as plt\n",
    "import string\n",
    "import pickle\n",
    "import re\n",
    "import spacy\n",
    "\n",
    "\n",
    "nlp = spacy.load(\"en\", disable=['parser', 'tagger', 'ner'])\n",
    "\n",
    "train = pd.read_csv('New_Data\\\\train.csv')\n",
    "test = pd.read_csv('New_Data\\\\test.csv')\n",
    "train.index = train['id']\n",
    "x_train = train['comment_text']\n",
    "y_train = train.iloc[:, 2:]\n",
    "test.index = test['id']\n",
    "x_test = test['comment_text']\n",
    "y_train['clean'] = 1 - y_train.sum(axis=1) >= 1\n",
    "x_train2 = x_train.dropna()\n",
    "x_test2 = x_test.dropna()\n",
    "print('start train lemmatize')\n",
    "x_train_lemmatized=dataStem(x_train2,lowerCase=True,punc=True,http=True)\n",
    "print('start test lemmatize')\n",
    "x_test_lemmatized=dataStem(x_test2,lowerCase=True,punc=True,http=True)\n",
    "train2=pd.concat([x_train_lemmatized,y_train], axis=1)\n",
    "saveInFile(train2,'train_Test')\n",
    "saveInFile(x_test_lemmatized,'test_Test')\n",
    "print('Lemmatizing and storing done!')"
   ]
  },
  {
   "cell_type": "code",
   "execution_count": null,
   "metadata": {
    "collapsed": true
   },
   "outputs": [],
   "source": []
  },
  {
   "cell_type": "code",
   "execution_count": 6,
   "metadata": {},
   "outputs": [
    {
     "name": "stdout",
     "output_type": "stream",
     "text": [
      "toxic\n",
      "[ 0.84342352  0.83609313  0.83609313 ...,  0.83609313  0.72858266\n",
      "  0.81115475]\n",
      "(153164, 7) (153164,)\n",
      "severe_toxic\n",
      "[ 0.2507657   0.26309995  0.26309995 ...,  0.26309995  0.24753664\n",
      "  0.25168878]\n",
      "(153164, 7) (153164,)\n",
      "obscene\n",
      "[ 0.54890267  0.56397065  0.56397065 ...,  0.56397065  0.48287155\n",
      "  0.56255065]\n",
      "(153164, 7) (153164,)\n",
      "threat\n",
      "[ 0.15623304  0.1626309   0.1626309  ...,  0.1626309   0.1626717\n",
      "  0.17910228]\n",
      "(153164, 7) (153164,)\n",
      "insult\n",
      "[ 0.53391276  0.546838    0.546838   ...,  0.546838    0.51111807\n",
      "  0.5462755 ]\n",
      "(153164, 7) (153164,)\n",
      "identity_hate\n",
      "[ 0.25144162  0.27896613  0.27896613 ...,  0.27896613  0.20833266\n",
      "  0.21976363]\n",
      "(153164, 7) (153164,)\n"
     ]
    }
   ],
   "source": [
    "import numpy as np\n",
    "from sklearn.naive_bayes import MultinomialNB\n",
    "from sklearn.feature_extraction.text import TfidfVectorizer\n",
    "from sklearn.svm import SVC\n",
    "import pickle\n",
    "import pandas as pd\n",
    "\n",
    "train = pickle.load(open('train_Test.p','rb'))\n",
    "test = pickle.load(open('test_Test.p','rb'))\n",
    "sample = pd.read_csv('sample_submission.csv')\n",
    "sampled_train=sampling(train)\n",
    "feature_model = TfidfVectorizer(ngram_range=(1, 4),max_features=50000)\n",
    "feature_matrix = feature_model.fit_transform(sampled_train['comment_text'])\n",
    "test_x = feature_model.transform(test)\n",
    "for col in ['toxic', 'severe_toxic', 'obscene', 'threat', 'insult', 'identity_hate']:\n",
    "    clf = SVC(probability=True)\n",
    "    clf.fit(feature_matrix, sampled_train[col])\n",
    "    preds = clf.predict_proba(test_x)[:, 1]\n",
    "    print(col)\n",
    "    print(preds)\n",
    "    print(sample.shape, preds.shape)\n",
    "    sample[col] = preds\n",
    "\n",
    "sample.to_csv(\"result1_50000Feature.csv\", index=False)\n"
   ]
  },
  {
   "cell_type": "markdown",
   "metadata": {},
   "source": [
    "# Title"
   ]
  },
  {
   "cell_type": "code",
   "execution_count": null,
   "metadata": {
    "collapsed": true
   },
   "outputs": [],
   "source": []
  }
 ],
 "metadata": {
  "kernelspec": {
   "display_name": "Python 3",
   "language": "python",
   "name": "python3"
  },
  "language_info": {
   "codemirror_mode": {
    "name": "ipython",
    "version": 3
   },
   "file_extension": ".py",
   "mimetype": "text/x-python",
   "name": "python",
   "nbconvert_exporter": "python",
   "pygments_lexer": "ipython3",
   "version": "3.6.3"
  }
 },
 "nbformat": 4,
 "nbformat_minor": 2
}
